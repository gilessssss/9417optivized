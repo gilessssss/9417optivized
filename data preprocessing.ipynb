{
 "cells": [
  {
   "cell_type": "code",
   "execution_count": 11,
   "metadata": {},
   "outputs": [],
   "source": [
    "import pandas as pd\n",
    "import numpy as np \n",
    "import glob \n",
    "import warnings \n",
    "from collections import Counter\n",
    "warnings.filterwarnings(\"ignore\")\n",
    "import plotly.express as px \n",
    "import seaborn as sns \n",
    "import matplotlib.pyplot as plt \n",
    "import lightgbm as lgbm \n",
    "from sklearn.model_selection import StratifiedKFold, train_test_split\n",
    "import math\n",
    "import os \n",
    "import random\n",
    "import torch \n",
    "import pyarrow as pa\n",
    "import pyarrow.parquet as pq\n",
    "import torch.nn as nn\n",
    "#from transformers import AdamW\n",
    "from torch.utils.data import Dataset , DataLoader\n",
    "from colorama import Fore , Style\n",
    "r__=Fore.RED\n",
    "g__=Fore.GREEN\n",
    "st__=Style.RESET_ALL"
   ]
  },
  {
   "cell_type": "code",
   "execution_count": 12,
   "metadata": {},
   "outputs": [],
   "source": [
    "#Split training data into 80% train + 20% test\n",
    "\n",
    "train = pd.read_csv(\"optiver_raw_data/train.csv\")\n",
    "\n",
    "time_id_of_first_80_percent = train.iloc[18384,1]\n"
   ]
  },
  {
   "cell_type": "code",
   "execution_count": 13,
   "metadata": {},
   "outputs": [],
   "source": [
    "stock_0 = train[train[\"stock_id\"]==0]\n",
    "df_train = pd.DataFrame()\n",
    "df_test = pd.DataFrame()\n",
    "for i in range(127):\n",
    "    stock_i = train[train[\"stock_id\"]==i]\n",
    "\n",
    "    stock_train = stock_i[stock_i['time_id'] <= time_id_of_first_80_percent]\n",
    "    stock_test = stock_i[stock_i['time_id'] > time_id_of_first_80_percent]\n",
    "\n",
    "    df_train = pd.concat([df_train, stock_train])\n",
    "    df_test = pd.concat([df_test, stock_test])\n",
    "\n",
    "df_train.to_parquet('target_data/target_train.parquet')\n",
    "df_test.to_parquet('target_data/target_test.parquet')"
   ]
  },
  {
   "cell_type": "code",
   "execution_count": 14,
   "metadata": {},
   "outputs": [],
   "source": [
    "#Split training data into 80% train + 20% test for stocks 0-5\n",
    "for i in range(127):\n",
    "    filename = \"optiver_raw_data/book_train.parquet/stock_id=\" + str(i)\n",
    "    if not os.path.exists(filename):\n",
    "        continue\n",
    "    book_current_stock = pd.read_parquet(filename)\n",
    "\n",
    "    stock_0_train = book_current_stock[book_current_stock['time_id'] <= time_id_of_first_80_percent]\n",
    "    stock_0_train.to_parquet('stock_train/stock_' + str(i) + '_train.parquet')\n",
    "\n",
    "    stock_0_test = book_current_stock[book_current_stock['time_id'] > time_id_of_first_80_percent]\n",
    "    stock_0_test.to_parquet('stock_test/stock_' + str(i) + '_test.parquet')\n"
   ]
  }
 ],
 "metadata": {
  "kernelspec": {
   "display_name": "Python 3.10.4 64-bit",
   "language": "python",
   "name": "python3"
  },
  "language_info": {
   "codemirror_mode": {
    "name": "ipython",
    "version": 3
   },
   "file_extension": ".py",
   "mimetype": "text/x-python",
   "name": "python",
   "nbconvert_exporter": "python",
   "pygments_lexer": "ipython3",
   "version": "3.10.4"
  },
  "orig_nbformat": 4,
  "vscode": {
   "interpreter": {
    "hash": "d41f633da6a0ed462606ff387ac8d93faacd97ec55d72fd1ffe37702897b9b90"
   }
  }
 },
 "nbformat": 4,
 "nbformat_minor": 2
}
